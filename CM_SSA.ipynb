{
  "nbformat": 4,
  "nbformat_minor": 0,
  "metadata": {
    "colab": {
      "provenance": [],
      "machine_shape": "hm",
      "gpuType": "A100"
    },
    "kernelspec": {
      "name": "python3",
      "display_name": "Python 3"
    },
    "language_info": {
      "name": "python"
    },
    "accelerator": "GPU"
  },
  "cells": [
    {
      "cell_type": "code",
      "source": [
        "!nvidia-smi"
      ],
      "metadata": {
        "colab": {
          "base_uri": "https://localhost:8080/"
        },
        "id": "P3TuEf-FhJbJ",
        "outputId": "572eefd0-cedc-469a-829e-ba27abcc3724"
      },
      "execution_count": 16,
      "outputs": [
        {
          "output_type": "stream",
          "name": "stdout",
          "text": [
            "Mon Sep  8 00:56:34 2025       \n",
            "+-----------------------------------------------------------------------------------------+\n",
            "| NVIDIA-SMI 550.54.15              Driver Version: 550.54.15      CUDA Version: 12.4     |\n",
            "|-----------------------------------------+------------------------+----------------------+\n",
            "| GPU  Name                 Persistence-M | Bus-Id          Disp.A | Volatile Uncorr. ECC |\n",
            "| Fan  Temp   Perf          Pwr:Usage/Cap |           Memory-Usage | GPU-Util  Compute M. |\n",
            "|                                         |                        |               MIG M. |\n",
            "|=========================================+========================+======================|\n",
            "|   0  NVIDIA A100-SXM4-80GB          Off |   00000000:00:05.0 Off |                    0 |\n",
            "| N/A   45C    P0             53W /  400W |       5MiB /  81920MiB |      0%      Default |\n",
            "|                                         |                        |             Disabled |\n",
            "+-----------------------------------------+------------------------+----------------------+\n",
            "                                                                                         \n",
            "+-----------------------------------------------------------------------------------------+\n",
            "| Processes:                                                                              |\n",
            "|  GPU   GI   CI        PID   Type   Process name                              GPU Memory |\n",
            "|        ID   ID                                                               Usage      |\n",
            "|=========================================================================================|\n",
            "|  No running processes found                                                             |\n",
            "+-----------------------------------------------------------------------------------------+\n"
          ]
        }
      ]
    },
    {
      "cell_type": "code",
      "execution_count": 17,
      "metadata": {
        "id": "kC-Mri09zy5M",
        "colab": {
          "base_uri": "https://localhost:8080/"
        },
        "outputId": "ffcefb9e-977b-4b9b-bee2-03b67e9881df"
      },
      "outputs": [
        {
          "output_type": "stream",
          "name": "stdout",
          "text": [
            "Drive already mounted at /content/drive; to attempt to forcibly remount, call drive.mount(\"/content/drive\", force_remount=True).\n"
          ]
        },
        {
          "output_type": "execute_result",
          "data": {
            "text/plain": [
              "['abstract_486.jpg',\n",
              " 'IMAGEexample2',\n",
              " 'Colab Notebooks',\n",
              " 'IC9600 dataset',\n",
              " 'vicuna-7b-v1.1',\n",
              " 'test_images.zip',\n",
              " 'images.zip',\n",
              " 'IC9600',\n",
              " 'models',\n",
              " 'results',\n",
              " 'logs',\n",
              " 'CLIP-AGIQA-colab.zip',\n",
              " 'IC9600-master-KROCC.zip',\n",
              " 'IC9600-DT original.zip',\n",
              " 'CV-Yuqing LUO .pdf',\n",
              " 'CLIP-AGIQA-colab V3.zip',\n",
              " 'savoias all pics.zip',\n",
              " 'VISC Images.zip',\n",
              " 'VISC_C.zip',\n",
              " 'visc all pics.zip',\n",
              " 'Haze.zip',\n",
              " 'CM-SSA.zip']"
            ]
          },
          "metadata": {},
          "execution_count": 17
        }
      ],
      "source": [
        "import os\n",
        "from google.colab import drive\n",
        "drive.mount('/content/drive')\n",
        "\n",
        "path = \"/content/drive/MyDrive\"\n",
        "\n",
        "os.chdir(path)\n",
        "os.listdir(path)"
      ]
    },
    {
      "cell_type": "code",
      "execution_count": 3,
      "metadata": {
        "colab": {
          "base_uri": "https://localhost:8080/"
        },
        "id": "cqMaqgze0KzO",
        "outputId": "217e8d40-5942-4ef5-992b-212df3a20c91"
      },
      "outputs": [
        {
          "output_type": "stream",
          "name": "stdout",
          "text": [
            "Files extracted to /content/\n"
          ]
        }
      ],
      "source": [
        "import zipfile\n",
        "import os\n",
        "\n",
        "# 定义压缩文件和解压目标路径\n",
        "zip_file_path = '/content/drive/MyDrive/CM-SSA.zip'\n",
        "extract_to_path = '/content/'\n",
        "\n",
        "# 创建解压目标文件夹（如果不存在）\n",
        "os.makedirs(extract_to_path, exist_ok=True)\n",
        "\n",
        "# 解压文件\n",
        "with zipfile.ZipFile(zip_file_path, 'r') as zip_ref:\n",
        "    zip_ref.extractall(extract_to_path)\n",
        "\n",
        "print(f\"Files extracted to {extract_to_path}\")"
      ]
    },
    {
      "cell_type": "code",
      "execution_count": 29,
      "metadata": {
        "colab": {
          "base_uri": "https://localhost:8080/"
        },
        "id": "oI4_zfdG0nRN",
        "outputId": "90b3df29-ca03-4ddd-c600-907d0900dbd4"
      },
      "outputs": [
        {
          "output_type": "stream",
          "name": "stdout",
          "text": [
            "/content/CM-SSA\n"
          ]
        }
      ],
      "source": [
        "cd /content/CM-SSA/"
      ]
    },
    {
      "cell_type": "code",
      "execution_count": 5,
      "metadata": {
        "colab": {
          "base_uri": "https://localhost:8080/"
        },
        "id": "tpeWL5zK0j9D",
        "outputId": "1a592b00-1929-4a42-aa33-69bc6ad6575e"
      },
      "outputs": [
        {
          "output_type": "stream",
          "name": "stdout",
          "text": [
            "/content/CM-SSA\n"
          ]
        }
      ],
      "source": [
        "import os\n",
        "print(os.getcwd())"
      ]
    },
    {
      "cell_type": "code",
      "execution_count": 6,
      "metadata": {
        "colab": {
          "base_uri": "https://localhost:8080/"
        },
        "id": "ybSzZfN01MYH",
        "outputId": "03e2e542-fbcd-48bf-ba32-ddd105aefa48"
      },
      "outputs": [
        {
          "output_type": "stream",
          "name": "stdout",
          "text": [
            " clip\t  datasets   log      save\n",
            " config   IC9600     models  'train_test_clip_auxiliary_rmse_rmae (1).py'\n",
            "dataloader.py  datasets.py  __pycache__\n"
          ]
        }
      ],
      "source": [
        "!ls /content/CM-SSA\n",
        "!ls /content/CM-SSA/datasets/"
      ]
    },
    {
      "cell_type": "code",
      "execution_count": 7,
      "metadata": {
        "colab": {
          "base_uri": "https://localhost:8080/"
        },
        "id": "fpTVQgee1dLr",
        "outputId": "bce35d34-68bc-4671-9f61-78f42409596b"
      },
      "outputs": [
        {
          "output_type": "stream",
          "name": "stdout",
          "text": [
            "Collecting ftfy\n",
            "  Downloading ftfy-6.3.1-py3-none-any.whl.metadata (7.3 kB)\n",
            "Requirement already satisfied: wcwidth in /usr/local/lib/python3.12/dist-packages (from ftfy) (0.2.13)\n",
            "Downloading ftfy-6.3.1-py3-none-any.whl (44 kB)\n",
            "\u001b[?25l   \u001b[90m━━━━━━━━━━━━━━━━━━━━━━━━━━━━━━━━━━━━━━━━\u001b[0m \u001b[32m0.0/44.8 kB\u001b[0m \u001b[31m?\u001b[0m eta \u001b[36m-:--:--\u001b[0m\r\u001b[2K   \u001b[90m━━━━━━━━━━━━━━━━━━━━━━━━━━━━━━━━━━━━━━━━\u001b[0m \u001b[32m44.8/44.8 kB\u001b[0m \u001b[31m3.4 MB/s\u001b[0m eta \u001b[36m0:00:00\u001b[0m\n",
            "\u001b[?25hInstalling collected packages: ftfy\n",
            "Successfully installed ftfy-6.3.1\n"
          ]
        }
      ],
      "source": [
        "!pip install ftfy"
      ]
    },
    {
      "cell_type": "code",
      "source": [
        "!touch /content/CM-SSA/datasets/__init__.py\n"
      ],
      "metadata": {
        "id": "JbAn2tU6xpEn"
      },
      "execution_count": 12,
      "outputs": []
    },
    {
      "cell_type": "code",
      "execution_count": 30,
      "metadata": {
        "colab": {
          "base_uri": "https://localhost:8080/"
        },
        "collapsed": true,
        "id": "hP4pY0Tt0mu_",
        "outputId": "ed4bdbb3-bccb-4127-b93f-5cb2a469f56c"
      },
      "outputs": [
        {
          "output_type": "stream",
          "name": "stdout",
          "text": [
            "AGIQA_use_aux_0_textdepth_12_visiondepth_12_lamda_0.10\n",
            "Random Seed:  10\n",
            "\r  0% 0/3 [00:00<?, ?it/s]====================round 0=====================\n",
            "Prepare the network and data.\n",
            "Loading CLIP (backbone: ViT-B/16)\n",
            "Building custom CLIP\n",
            "Initializing a generic context\n",
            "Initial context: \"X X X X X X X X\"\n",
            "Number of context words (tokens): 8\n",
            "Initializing a generic context\n",
            "Initial context: \"X X X X X X X X\"\n",
            "Number of context words (tokens): 8\n",
            "77\n",
            "torch.Size([77, 77])\n",
            "Turning off gradients in both the image and the text encoder\n",
            "IC9600\n",
            "IC9600\n",
            "Training.\n",
            "Epoch\tTrain loss\tAuxiliary loss\tTrain_SRCC\tTrain_RMSE\tTrain_RMAE\tTest_SRCC\tTest_PLCC\tTest_KRCC\tTest_RMSE\tTest_RMAE\n",
            "1\t\t0.001\t\t0.000\t\t0.5306\t\t0.0442\t\t0.0347\t\t0.9083\t\t0.9051\t\t0.7491\t\t0.0141\t\t0.0110\n",
            "  0% 0/3 [03:12<?, ?it/s]\n",
            "Traceback (most recent call last):\n",
            "  File \"/content/CM-SSA/Run_train_test.py\", line 115, in train\n",
            "    test_srcc, test_plcc, test_data, test_krcc, test_rmse, test_rmae = self.test(self._test_loader)\n",
            "                                                                       ^^^^^^^^^^^^^^^^^^^^^^^^^^^^\n",
            "  File \"/content/CM-SSA/Run_train_test.py\", line 166, in test\n",
            "    pred, _ = self._net(i, z)\n",
            "              ^^^^^^^^^^^^^^^\n",
            "  File \"/usr/local/lib/python3.12/dist-packages/torch/nn/modules/module.py\", line 1773, in _wrapped_call_impl\n",
            "    return self._call_impl(*args, **kwargs)\n",
            "           ^^^^^^^^^^^^^^^^^^^^^^^^^^^^^^^^\n",
            "  File \"/usr/local/lib/python3.12/dist-packages/torch/nn/modules/module.py\", line 1784, in _call_impl\n",
            "    return forward_call(*args, **kwargs)\n",
            "           ^^^^^^^^^^^^^^^^^^^^^^^^^^^^^\n",
            "  File \"/content/CM-SSA/models/AGIQA.py\", line 379, in forward\n",
            "    text_features = self.vv(pos_embedding, wordid) # b, 512\n",
            "                    ^^^^^^^^^^^^^^^^^^^^^^^^^^^^^^\n",
            "  File \"/usr/local/lib/python3.12/dist-packages/torch/nn/modules/module.py\", line 1773, in _wrapped_call_impl\n",
            "    return self._call_impl(*args, **kwargs)\n",
            "           ^^^^^^^^^^^^^^^^^^^^^^^^^^^^^^^^\n",
            "  File \"/usr/local/lib/python3.12/dist-packages/torch/nn/modules/module.py\", line 1784, in _call_impl\n",
            "    return forward_call(*args, **kwargs)\n",
            "           ^^^^^^^^^^^^^^^^^^^^^^^^^^^^^\n",
            "  File \"/content/CM-SSA/models/AGIQA.py\", line 342, in forward\n",
            "    x = self.transformer(x)\n",
            "        ^^^^^^^^^^^^^^^^^^^\n",
            "  File \"/usr/local/lib/python3.12/dist-packages/torch/nn/modules/module.py\", line 1773, in _wrapped_call_impl\n",
            "    return self._call_impl(*args, **kwargs)\n",
            "           ^^^^^^^^^^^^^^^^^^^^^^^^^^^^^^^^\n",
            "  File \"/usr/local/lib/python3.12/dist-packages/torch/nn/modules/module.py\", line 1784, in _call_impl\n",
            "    return forward_call(*args, **kwargs)\n",
            "           ^^^^^^^^^^^^^^^^^^^^^^^^^^^^^\n",
            "  File \"/content/CM-SSA/clip/model.py\", line 203, in forward\n",
            "    return self.resblocks(x)\n",
            "           ^^^^^^^^^^^^^^^^^\n",
            "  File \"/usr/local/lib/python3.12/dist-packages/torch/nn/modules/module.py\", line 1773, in _wrapped_call_impl\n",
            "    return self._call_impl(*args, **kwargs)\n",
            "           ^^^^^^^^^^^^^^^^^^^^^^^^^^^^^^^^\n",
            "  File \"/usr/local/lib/python3.12/dist-packages/torch/nn/modules/module.py\", line 1784, in _call_impl\n",
            "    return forward_call(*args, **kwargs)\n",
            "           ^^^^^^^^^^^^^^^^^^^^^^^^^^^^^\n",
            "  File \"/usr/local/lib/python3.12/dist-packages/torch/nn/modules/container.py\", line 244, in forward\n",
            "    input = module(input)\n",
            "            ^^^^^^^^^^^^^\n",
            "  File \"/usr/local/lib/python3.12/dist-packages/torch/nn/modules/module.py\", line 1773, in _wrapped_call_impl\n",
            "    return self._call_impl(*args, **kwargs)\n",
            "           ^^^^^^^^^^^^^^^^^^^^^^^^^^^^^^^^\n",
            "  File \"/usr/local/lib/python3.12/dist-packages/torch/nn/modules/module.py\", line 1784, in _call_impl\n",
            "    return forward_call(*args, **kwargs)\n",
            "           ^^^^^^^^^^^^^^^^^^^^^^^^^^^^^\n",
            "  File \"/content/CM-SSA/clip/model.py\", line 190, in forward\n",
            "    x = x + self.attention(self.ln_1(x))\n",
            "            ^^^^^^^^^^^^^^^^^^^^^^^^^^^^\n",
            "  File \"/content/CM-SSA/clip/model.py\", line 187, in attention\n",
            "    return self.attn(x, x, x, need_weights=False, attn_mask=self.attn_mask)[0]\n",
            "           ^^^^^^^^^^^^^^^^^^^^^^^^^^^^^^^^^^^^^^^^^^^^^^^^^^^^^^^^^^^^^^^^\n",
            "  File \"/usr/local/lib/python3.12/dist-packages/torch/nn/modules/module.py\", line 1773, in _wrapped_call_impl\n",
            "    return self._call_impl(*args, **kwargs)\n",
            "           ^^^^^^^^^^^^^^^^^^^^^^^^^^^^^^^^\n",
            "  File \"/usr/local/lib/python3.12/dist-packages/torch/nn/modules/module.py\", line 1784, in _call_impl\n",
            "    return forward_call(*args, **kwargs)\n",
            "           ^^^^^^^^^^^^^^^^^^^^^^^^^^^^^\n",
            "  File \"/usr/local/lib/python3.12/dist-packages/torch/nn/modules/activation.py\", line 1380, in forward\n",
            "    attn_output, attn_output_weights = F.multi_head_attention_forward(\n",
            "                                       ^^^^^^^^^^^^^^^^^^^^^^^^^^^^^^^\n",
            "  File \"/usr/local/lib/python3.12/dist-packages/torch/nn/functional.py\", line 6491, in multi_head_attention_forward\n",
            "    attn_output = linear(attn_output, out_proj_weight, out_proj_bias)\n",
            "                  ^^^^^^^^^^^^^^^^^^^^^^^^^^^^^^^^^^^^^^^^^^^^^^^^^^^\n",
            "KeyboardInterrupt\n",
            "\n",
            "During handling of the above exception, another exception occurred:\n",
            "\n",
            "Traceback (most recent call last):\n",
            "  File \"/content/CM-SSA/Run_train_test.py\", line 342, in <module>\n",
            "    main()\n",
            "  File \"/content/CM-SSA/Run_train_test.py\", line 316, in main\n",
            "    best_srcc, best_plcc, best_krcc, best_rmse, best_rmae = manager.train()\n",
            "                                                            ^^^^^^^^^^^^^^^\n",
            "  File \"/content/CM-SSA/Run_train_test.py\", line 114, in train\n",
            "    with torch.no_grad():\n",
            "         ^^^^^^^^^^^^^^^\n",
            "  File \"/usr/local/lib/python3.12/dist-packages/torch/autograd/grad_mode.py\", line 84, in __exit__\n",
            "    def __exit__(self, exc_type: Any, exc_value: Any, traceback: Any) -> None:\n",
            "\n",
            "KeyboardInterrupt\n"
          ]
        }
      ],
      "source": [
        "!python /content/CM-SSA/Run_train_test.py"
      ]
    },
    {
      "cell_type": "code",
      "source": [
        "!ls /content/config\n"
      ],
      "metadata": {
        "colab": {
          "base_uri": "https://localhost:8080/"
        },
        "id": "ciY5VJeM2V9N",
        "outputId": "4ca5929c-ada9-48b3-80be-580f55ad0437"
      },
      "execution_count": 26,
      "outputs": [
        {
          "output_type": "stream",
          "name": "stdout",
          "text": [
            "ls: cannot access '/content/config': No such file or directory\n"
          ]
        }
      ]
    }
  ]
}